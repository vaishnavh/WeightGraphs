{
 "cells": [
  {
   "cell_type": "markdown",
   "metadata": {},
   "source": [
    "#### Importing packages"
   ]
  },
  {
   "cell_type": "code",
   "execution_count": 16,
   "metadata": {
    "collapsed": false
   },
   "outputs": [],
   "source": [
    "%matplotlib notebook\n",
    "import matplotlib.pyplot as plt\n",
    "import numpy as np\n",
    "from tqdm import tqdm\n",
    "from scipy import sparse\n"
   ]
  },
  {
   "cell_type": "markdown",
   "metadata": {},
   "source": [
    "### Importing Committee to Candidate donations\n",
    "Format: CommitteeID, CandidateID, Time, Amount\n",
    "\n",
    "What the candidate receives.\n",
    "\n",
    "I think this is the inweight they talk about in [8]"
   ]
  },
  {
   "cell_type": "code",
   "execution_count": 17,
   "metadata": {
    "collapsed": false
   },
   "outputs": [
    {
     "ename": "FileNotFoundError",
     "evalue": "[Errno 2] No such file or directory: '/Users/vaishnan/Documents/15826/campaign-contribution-text/Com2Cand.txt'",
     "output_type": "error",
     "traceback": [
      "\u001b[0;31m---------------------------------------------------------------------------\u001b[0m",
      "\u001b[0;31mFileNotFoundError\u001b[0m                         Traceback (most recent call last)",
      "\u001b[0;32m<ipython-input-17-155496ab37a1>\u001b[0m in \u001b[0;36m<module>\u001b[0;34m()\u001b[0m\n\u001b[0;32m----> 1\u001b[0;31m \u001b[0mCom2Cand\u001b[0m \u001b[0;34m=\u001b[0m \u001b[0mnp\u001b[0m\u001b[0;34m.\u001b[0m\u001b[0mloadtxt\u001b[0m\u001b[0;34m(\u001b[0m\u001b[0;34m'/Users/vaishnan/Documents/15826/campaign-contribution-text/Com2Cand.txt'\u001b[0m\u001b[0;34m,\u001b[0m\u001b[0mint\u001b[0m\u001b[0;34m)\u001b[0m\u001b[0;34m\u001b[0m\u001b[0m\n\u001b[0m",
      "\u001b[0;32m/Users/rohan_varma/anaconda/lib/python3.5/site-packages/numpy/lib/npyio.py\u001b[0m in \u001b[0;36mloadtxt\u001b[0;34m(fname, dtype, comments, delimiter, converters, skiprows, usecols, unpack, ndmin)\u001b[0m\n\u001b[1;32m    801\u001b[0m                 \u001b[0mfh\u001b[0m \u001b[0;34m=\u001b[0m \u001b[0miter\u001b[0m\u001b[0;34m(\u001b[0m\u001b[0mopen\u001b[0m\u001b[0;34m(\u001b[0m\u001b[0mfname\u001b[0m\u001b[0;34m,\u001b[0m \u001b[0;34m'U'\u001b[0m\u001b[0;34m)\u001b[0m\u001b[0;34m)\u001b[0m\u001b[0;34m\u001b[0m\u001b[0m\n\u001b[1;32m    802\u001b[0m             \u001b[0;32melse\u001b[0m\u001b[0;34m:\u001b[0m\u001b[0;34m\u001b[0m\u001b[0m\n\u001b[0;32m--> 803\u001b[0;31m                 \u001b[0mfh\u001b[0m \u001b[0;34m=\u001b[0m \u001b[0miter\u001b[0m\u001b[0;34m(\u001b[0m\u001b[0mopen\u001b[0m\u001b[0;34m(\u001b[0m\u001b[0mfname\u001b[0m\u001b[0;34m)\u001b[0m\u001b[0;34m)\u001b[0m\u001b[0;34m\u001b[0m\u001b[0m\n\u001b[0m\u001b[1;32m    804\u001b[0m         \u001b[0;32melse\u001b[0m\u001b[0;34m:\u001b[0m\u001b[0;34m\u001b[0m\u001b[0m\n\u001b[1;32m    805\u001b[0m             \u001b[0mfh\u001b[0m \u001b[0;34m=\u001b[0m \u001b[0miter\u001b[0m\u001b[0;34m(\u001b[0m\u001b[0mfname\u001b[0m\u001b[0;34m)\u001b[0m\u001b[0;34m\u001b[0m\u001b[0m\n",
      "\u001b[0;31mFileNotFoundError\u001b[0m: [Errno 2] No such file or directory: '/Users/vaishnan/Documents/15826/campaign-contribution-text/Com2Cand.txt'"
     ]
    }
   ],
   "source": [
    "Com2Cand = np.loadtxt('/Users/vaishnan/Documents/15826/campaign-contribution-text/Com2Cand.txt',int)\n"
   ]
  },
  {
   "cell_type": "markdown",
   "metadata": {},
   "source": [
    "### Importing Donor to Committee donations\n",
    "Format: CommitteeID, DonorID, Time, Amount\n",
    "\n",
    "What the donor organization donates.\n",
    "\n",
    "I think is the the out-weight they talk about in [8]"
   ]
  },
  {
   "cell_type": "code",
   "execution_count": null,
   "metadata": {
    "collapsed": false
   },
   "outputs": [],
   "source": [
    "Don2Com = np.loadtxt('/Users/vaishnan/Documents/15826/campaign-contribution-text/Don2Com.txt',int)"
   ]
  },
  {
   "cell_type": "markdown",
   "metadata": {},
   "source": [
    "The max id for each object. "
   ]
  },
  {
   "cell_type": "code",
   "execution_count": null,
   "metadata": {
    "collapsed": false
   },
   "outputs": [],
   "source": [
    "NumCandidates = 61618\n",
    "NumCommittees = 60063\n",
    "NumDonors = 6368912"
   ]
  },
  {
   "cell_type": "markdown",
   "metadata": {},
   "source": [
    "#### Converting the year columns to just years"
   ]
  },
  {
   "cell_type": "code",
   "execution_count": 2,
   "metadata": {
    "collapsed": false
   },
   "outputs": [
    {
     "ename": "NameError",
     "evalue": "name 'Com2Cand' is not defined",
     "output_type": "error",
     "traceback": [
      "\u001b[0;31m---------------------------------------------------------------------------\u001b[0m",
      "\u001b[0;31mNameError\u001b[0m                                 Traceback (most recent call last)",
      "\u001b[0;32m<ipython-input-2-0058741b722d>\u001b[0m in \u001b[0;36m<module>\u001b[0;34m()\u001b[0m\n\u001b[0;32m----> 1\u001b[0;31m \u001b[0mCom2Cand\u001b[0m\u001b[0;34m[\u001b[0m\u001b[0;34m:\u001b[0m\u001b[0;34m,\u001b[0m\u001b[0;36m2\u001b[0m\u001b[0;34m]\u001b[0m\u001b[0;34m/=\u001b[0m\u001b[0;36m10000\u001b[0m\u001b[0;34m\u001b[0m\u001b[0m\n\u001b[0m\u001b[1;32m      2\u001b[0m \u001b[0mDon2Com\u001b[0m\u001b[0;34m[\u001b[0m\u001b[0;34m:\u001b[0m\u001b[0;34m,\u001b[0m\u001b[0;36m2\u001b[0m\u001b[0;34m]\u001b[0m\u001b[0;34m/=\u001b[0m\u001b[0;36m10000\u001b[0m\u001b[0;34m\u001b[0m\u001b[0m\n",
      "\u001b[0;31mNameError\u001b[0m: name 'Com2Cand' is not defined"
     ]
    }
   ],
   "source": [
    "Com2Cand[:,2]/=10000\n",
    "Don2Com[:,2]/=10000"
   ]
  },
  {
   "cell_type": "markdown",
   "metadata": {},
   "source": [
    "#### Select only records corresponding to 2006"
   ]
  },
  {
   "cell_type": "code",
   "execution_count": 3,
   "metadata": {
    "collapsed": false
   },
   "outputs": [
    {
     "ename": "NameError",
     "evalue": "name 'Com2Cand' is not defined",
     "output_type": "error",
     "traceback": [
      "\u001b[0;31m---------------------------------------------------------------------------\u001b[0m",
      "\u001b[0;31mNameError\u001b[0m                                 Traceback (most recent call last)",
      "\u001b[0;32m<ipython-input-3-6f65d6d34250>\u001b[0m in \u001b[0;36m<module>\u001b[0;34m()\u001b[0m\n\u001b[1;32m      5\u001b[0m \u001b[0;34m\u001b[0m\u001b[0m\n\u001b[1;32m      6\u001b[0m \u001b[0;34m\u001b[0m\u001b[0m\n\u001b[0;32m----> 7\u001b[0;31m \u001b[0mCom2CandFinal\u001b[0m \u001b[0;34m=\u001b[0m \u001b[0mget_records_of_year\u001b[0m\u001b[0;34m(\u001b[0m\u001b[0mCom2Cand\u001b[0m\u001b[0;34m,\u001b[0m \u001b[0;36m2006\u001b[0m\u001b[0;34m)\u001b[0m\u001b[0;34m\u001b[0m\u001b[0m\n\u001b[0m\u001b[1;32m      8\u001b[0m \u001b[0mDon2ComFinal\u001b[0m \u001b[0;34m=\u001b[0m \u001b[0mget_records_of_year\u001b[0m\u001b[0;34m(\u001b[0m\u001b[0mDon2Com\u001b[0m\u001b[0;34m,\u001b[0m \u001b[0;36m2006\u001b[0m\u001b[0;34m)\u001b[0m\u001b[0;34m\u001b[0m\u001b[0m\n\u001b[1;32m      9\u001b[0m \u001b[0;34m\u001b[0m\u001b[0m\n",
      "\u001b[0;31mNameError\u001b[0m: name 'Com2Cand' is not defined"
     ]
    }
   ],
   "source": [
    "def get_records_of_year(records, year):\n",
    "    selected_rows = (records[np.array([idx for idx in range(records.shape[0]) if records[idx, 2] == year]),:])\n",
    "    return selected_rows[:,np.array([0,1,3])]\n",
    "    # Removes year\n",
    "\n",
    "\n",
    "Com2CandFinal = get_records_of_year(Com2Cand, 2006)\n",
    "Don2ComFinal = get_records_of_year(Don2Com, 2006)\n",
    "\n"
   ]
  },
  {
   "cell_type": "markdown",
   "metadata": {},
   "source": [
    "#### Get outdegree and outweights"
   ]
  },
  {
   "cell_type": "code",
   "execution_count": 4,
   "metadata": {
    "collapsed": false
   },
   "outputs": [
    {
     "ename": "NameError",
     "evalue": "name 'Don2ComFinal' is not defined",
     "output_type": "error",
     "traceback": [
      "\u001b[0;31m---------------------------------------------------------------------------\u001b[0m",
      "\u001b[0;31mNameError\u001b[0m                                 Traceback (most recent call last)",
      "\u001b[0;32m<ipython-input-4-00cd992050f8>\u001b[0m in \u001b[0;36m<module>\u001b[0;34m()\u001b[0m\n\u001b[1;32m      9\u001b[0m     \u001b[0;32mreturn\u001b[0m \u001b[0msummary\u001b[0m\u001b[0;34m\u001b[0m\u001b[0m\n\u001b[1;32m     10\u001b[0m \u001b[0;34m\u001b[0m\u001b[0m\n\u001b[0;32m---> 11\u001b[0;31m \u001b[0moutweights\u001b[0m \u001b[0;34m=\u001b[0m \u001b[0mget_degree_and_weight\u001b[0m\u001b[0;34m(\u001b[0m\u001b[0mDon2ComFinal\u001b[0m\u001b[0;34m,\u001b[0m \u001b[0mNumDonors\u001b[0m\u001b[0;34m)\u001b[0m\u001b[0;34m\u001b[0m\u001b[0m\n\u001b[0m\u001b[1;32m     12\u001b[0m \u001b[0minweights\u001b[0m \u001b[0;34m=\u001b[0m \u001b[0mget_degree_and_weight\u001b[0m\u001b[0;34m(\u001b[0m\u001b[0mCom2CandFinal\u001b[0m\u001b[0;34m,\u001b[0m \u001b[0mNumCandidates\u001b[0m\u001b[0;34m)\u001b[0m\u001b[0;34m\u001b[0m\u001b[0m\n",
      "\u001b[0;31mNameError\u001b[0m: name 'Don2ComFinal' is not defined"
     ]
    }
   ],
   "source": [
    "def get_degree_and_weight(records, max_index):\n",
    "    # Second column is what we want to be summarized over\n",
    "    summary = np.zeros((max_index+1, 2))\n",
    "    # Each row is a (degree, weight)\n",
    "    for i in range(records.shape[0]):\n",
    "        nodeId = records[i,1]\n",
    "        summary[nodeId,0] += 1\n",
    "        summary[nodeId,1] += records[i,2]\n",
    "    return summary\n",
    "\n",
    "outweights = get_degree_and_weight(Don2ComFinal, NumDonors)\n",
    "inweights = get_degree_and_weight(Com2CandFinal, NumCandidates)"
   ]
  },
  {
   "cell_type": "code",
   "execution_count": 5,
   "metadata": {
    "collapsed": false
   },
   "outputs": [
    {
     "ename": "NameError",
     "evalue": "name 'Don2ComFinal' is not defined",
     "output_type": "error",
     "traceback": [
      "\u001b[0;31m---------------------------------------------------------------------------\u001b[0m",
      "\u001b[0;31mNameError\u001b[0m                                 Traceback (most recent call last)",
      "\u001b[0;32m<ipython-input-5-c7e7af60349a>\u001b[0m in \u001b[0;36m<module>\u001b[0;34m()\u001b[0m\n\u001b[0;32m----> 1\u001b[0;31m \u001b[0mmin\u001b[0m\u001b[0;34m(\u001b[0m\u001b[0mDon2ComFinal\u001b[0m\u001b[0;34m[\u001b[0m\u001b[0;34m:\u001b[0m\u001b[0;34m,\u001b[0m\u001b[0;36m2\u001b[0m\u001b[0;34m]\u001b[0m\u001b[0;34m)\u001b[0m \u001b[0;31m# Why do I see negative contributions?\u001b[0m\u001b[0;34m\u001b[0m\u001b[0m\n\u001b[0m",
      "\u001b[0;31mNameError\u001b[0m: name 'Don2ComFinal' is not defined"
     ]
    }
   ],
   "source": [
    "min(Don2ComFinal[:,2]) # Why do I see negative contributions?"
   ]
  },
  {
   "cell_type": "markdown",
   "metadata": {},
   "source": [
    "### Log Log Plots for outweights and inweights"
   ]
  },
  {
   "cell_type": "code",
   "execution_count": 6,
   "metadata": {
    "collapsed": false
   },
   "outputs": [],
   "source": [
    "def plot_log_log(records):\n",
    "    fig, ax = plt.subplots()\n",
    "    # Remove zero values\n",
    "    records = records[np.array([idx for idx in range(records.shape[0]) if records[idx, 0]>0 and records[idx,1] > 0]),:]\n",
    "    #median_x, median_y = zip(*sorted((xVal, np.median([yVal for a, yVal in zip(records[:,0], records[:,1]) if xVal==a])) for xVal in set(records[:,0])))\n",
    "    plt.scatter([np.log(r) for r in records[:,0]], [np.log(r) for r in  records[:,1]],s=0.5)\n",
    "    # Todo add median code\n",
    "    \n",
    "    \n",
    "def plot_log_log_median(records,B=20):\n",
    "    fig, ax = plt.subplots()\n",
    "    records = records[np.array([idx for idx in range(records.shape[0]) if records[idx, 0]>0 and records[idx,1] > 0]),:]\n",
    "    xs = [np.log(record[0]) for record in records]\n",
    "    ys = [np.log(record[1]) for record in records]\n",
    "    x_max = max(xs)\n",
    "    # bin into default 20 values\n",
    "    binned_xs = [x_max*i/float(B) for i in range(B+1)]\n",
    "    median_ys = []\n",
    "    err = []\n",
    "    for i in range(B):\n",
    "        # find median y values for x values in [binned_xs[i], binned_xs[i+1])\n",
    "        current_ys = [ys[j] for j in range(len(xs)) if binned_xs[i] <= xs[j] and xs[j] < binned_xs[i+1]]\n",
    "        current_y = np.median(current_ys)\n",
    "        median_ys += [current_y]\n",
    "        #err += [[median_ys-np.std(current_ys)*0.5,median_ys+np.std(current_ys)*0.5]]\n",
    "        err += [np.std(current_ys)]\n",
    "\n",
    "\n",
    "\n",
    "    plt.errorbar(binned_xs[1:], median_ys, marker='o', yerr=err)\n",
    "\n"
   ]
  },
  {
   "cell_type": "code",
   "execution_count": 7,
   "metadata": {
    "collapsed": false
   },
   "outputs": [
    {
     "ename": "NameError",
     "evalue": "name 'outweights' is not defined",
     "output_type": "error",
     "traceback": [
      "\u001b[0;31m---------------------------------------------------------------------------\u001b[0m",
      "\u001b[0;31mNameError\u001b[0m                                 Traceback (most recent call last)",
      "\u001b[0;32m<ipython-input-7-05f528e297e9>\u001b[0m in \u001b[0;36m<module>\u001b[0;34m()\u001b[0m\n\u001b[0;32m----> 1\u001b[0;31m \u001b[0mplot_log_log\u001b[0m\u001b[0;34m(\u001b[0m\u001b[0moutweights\u001b[0m\u001b[0;34m)\u001b[0m\u001b[0;34m\u001b[0m\u001b[0m\n\u001b[0m",
      "\u001b[0;31mNameError\u001b[0m: name 'outweights' is not defined"
     ]
    }
   ],
   "source": [
    "plot_log_log(outweights)"
   ]
  },
  {
   "cell_type": "code",
   "execution_count": 8,
   "metadata": {
    "collapsed": false
   },
   "outputs": [
    {
     "ename": "NameError",
     "evalue": "name 'inweights' is not defined",
     "output_type": "error",
     "traceback": [
      "\u001b[0;31m---------------------------------------------------------------------------\u001b[0m",
      "\u001b[0;31mNameError\u001b[0m                                 Traceback (most recent call last)",
      "\u001b[0;32m<ipython-input-8-43969d4832ff>\u001b[0m in \u001b[0;36m<module>\u001b[0;34m()\u001b[0m\n\u001b[0;32m----> 1\u001b[0;31m \u001b[0mplot_log_log\u001b[0m\u001b[0;34m(\u001b[0m\u001b[0minweights\u001b[0m\u001b[0;34m)\u001b[0m\u001b[0;34m\u001b[0m\u001b[0m\n\u001b[0m",
      "\u001b[0;31mNameError\u001b[0m: name 'inweights' is not defined"
     ]
    }
   ],
   "source": [
    "plot_log_log(inweights)"
   ]
  },
  {
   "cell_type": "code",
   "execution_count": 9,
   "metadata": {
    "collapsed": false
   },
   "outputs": [
    {
     "ename": "NameError",
     "evalue": "name 'inweights' is not defined",
     "output_type": "error",
     "traceback": [
      "\u001b[0;31m---------------------------------------------------------------------------\u001b[0m",
      "\u001b[0;31mNameError\u001b[0m                                 Traceback (most recent call last)",
      "\u001b[0;32m<ipython-input-9-df8a7d32a921>\u001b[0m in \u001b[0;36m<module>\u001b[0;34m()\u001b[0m\n\u001b[0;32m----> 1\u001b[0;31m \u001b[0mplot_log_log_median\u001b[0m\u001b[0;34m(\u001b[0m\u001b[0minweights\u001b[0m\u001b[0;34m,\u001b[0m\u001b[0mB\u001b[0m\u001b[0;34m=\u001b[0m\u001b[0;36m20\u001b[0m\u001b[0;34m)\u001b[0m\u001b[0;34m\u001b[0m\u001b[0m\n\u001b[0m",
      "\u001b[0;31mNameError\u001b[0m: name 'inweights' is not defined"
     ]
    }
   ],
   "source": [
    "plot_log_log_median(inweights,B=20)"
   ]
  },
  {
   "cell_type": "markdown",
   "metadata": {},
   "source": [
    "### Edge weight power law"
   ]
  },
  {
   "cell_type": "code",
   "execution_count": 10,
   "metadata": {
    "collapsed": true
   },
   "outputs": [],
   "source": [
    "def get_edge_weights(records):\n",
    "    # For each existing edge in the record, merges duplicates by adding them up\n",
    "    edge_weights = {}\n",
    "    for i in range(records.shape[0]):\n",
    "        # Add newly found weight\n",
    "        edge_weights[(records[i,0], records[i,1])] = edge_weights.get((records[i,0], records[i,1]), 0) + records[i,2]\n",
    "    return edge_weights\n",
    "\n",
    "def get_ewpl(records, edge_weights, maxIndex):\n",
    "    # Records is either Don2Com or Com2Cand\n",
    "    # First get (the degree and) incident weight data on each candidate/donor\n",
    "    # Summary of column 1\n",
    "    node_summary = get_degree_and_weight(records, maxIndex)\n",
    "    # Get (the degree and) incident weight data on each committee\n",
    "    # I swap the first two columns in the record to do this\n",
    "    # Summary of column 0 \n",
    "    comm_summary = get_degree_and_weight(records[:,np.array([1,0,2])], NumCommittees)\n",
    "    # Now we need to generate a list of ordered pairs of the\n",
    "    # form(edge-weight, sqrt(weights incident on end points)) \n",
    "    # But before that we need to merge records corresponding to same (i,j)\n",
    "    # Each edge is (committee, candidate)\n",
    "    #edge_weights = get_edge_weights(records)\n",
    "    # Update: This should be passed\n",
    "\n",
    "    x = []\n",
    "    y = []\n",
    "    #results = np.zeros((len(edge_weights.keys()),2))\n",
    "    for edge in edge_weights.keys():\n",
    "        # Add edge weight as x value\n",
    "        #edge = edge_weights.keys()[i]\n",
    "        val = edge_weights[edge]\n",
    "        x += [edge_weights[edge]]\n",
    "        # Add product of incident weights\n",
    "        y += [(node_summary[edge[1],1]-val)*(comm_summary[edge[0],1]-val)]\n",
    "        #results[i,1] = (cand_summary[edge[1],1]-val)*(comm_summary[edge[0],1]-val)\n",
    "        #results[i,0] = val\n",
    "    return np.asarray(zip(x,y))"
   ]
  },
  {
   "cell_type": "code",
   "execution_count": 11,
   "metadata": {
    "collapsed": false
   },
   "outputs": [
    {
     "ename": "NameError",
     "evalue": "name 'records' is not defined",
     "output_type": "error",
     "traceback": [
      "\u001b[0;31m---------------------------------------------------------------------------\u001b[0m",
      "\u001b[0;31mNameError\u001b[0m                                 Traceback (most recent call last)",
      "\u001b[0;32m<ipython-input-11-51ffbaa78e3e>\u001b[0m in \u001b[0;36m<module>\u001b[0;34m()\u001b[0m\n\u001b[0;32m----> 1\u001b[0;31m \u001b[0mDon2ComFinal_ew\u001b[0m \u001b[0;34m=\u001b[0m \u001b[0mget_edge_weights\u001b[0m\u001b[0;34m(\u001b[0m\u001b[0mrecords\u001b[0m\u001b[0;34m)\u001b[0m\u001b[0;34m\u001b[0m\u001b[0m\n\u001b[0m\u001b[1;32m      2\u001b[0m \u001b[0mCom2CandFinal_ew\u001b[0m \u001b[0;34m=\u001b[0m \u001b[0mget_edge_weights\u001b[0m\u001b[0;34m(\u001b[0m\u001b[0mrecords\u001b[0m\u001b[0;34m)\u001b[0m\u001b[0;34m\u001b[0m\u001b[0m\n",
      "\u001b[0;31mNameError\u001b[0m: name 'records' is not defined"
     ]
    }
   ],
   "source": [
    "Don2ComFinal_ew = get_edge_weights(records)\n",
    "Com2CandFinal_ew = get_edge_weights(records)"
   ]
  },
  {
   "cell_type": "code",
   "execution_count": 12,
   "metadata": {
    "collapsed": false
   },
   "outputs": [
    {
     "ename": "NameError",
     "evalue": "name 'Don2ComFinal' is not defined",
     "output_type": "error",
     "traceback": [
      "\u001b[0;31m---------------------------------------------------------------------------\u001b[0m",
      "\u001b[0;31mNameError\u001b[0m                                 Traceback (most recent call last)",
      "\u001b[0;32m<ipython-input-12-e7f985805fb8>\u001b[0m in \u001b[0;36m<module>\u001b[0;34m()\u001b[0m\n\u001b[0;32m----> 1\u001b[0;31m \u001b[0mDon2Com_ewpl\u001b[0m \u001b[0;34m=\u001b[0m \u001b[0mget_ewpl\u001b[0m\u001b[0;34m(\u001b[0m\u001b[0mDon2ComFinal\u001b[0m\u001b[0;34m,\u001b[0m \u001b[0mDon2ComFinal_ew\u001b[0m\u001b[0;34m,\u001b[0m \u001b[0mNumDonors\u001b[0m\u001b[0;34m)\u001b[0m\u001b[0;34m\u001b[0m\u001b[0m\n\u001b[0m",
      "\u001b[0;31mNameError\u001b[0m: name 'Don2ComFinal' is not defined"
     ]
    }
   ],
   "source": [
    "Don2Com_ewpl = get_ewpl(Don2ComFinal, Don2ComFinal_ew, NumDonors)"
   ]
  },
  {
   "cell_type": "code",
   "execution_count": 13,
   "metadata": {
    "collapsed": false
   },
   "outputs": [
    {
     "ename": "NameError",
     "evalue": "name 'Don2Com_ewpl' is not defined",
     "output_type": "error",
     "traceback": [
      "\u001b[0;31m---------------------------------------------------------------------------\u001b[0m",
      "\u001b[0;31mNameError\u001b[0m                                 Traceback (most recent call last)",
      "\u001b[0;32m<ipython-input-13-603d87910dd1>\u001b[0m in \u001b[0;36m<module>\u001b[0;34m()\u001b[0m\n\u001b[0;32m----> 1\u001b[0;31m \u001b[0mplot_log_log_median\u001b[0m\u001b[0;34m(\u001b[0m\u001b[0mDon2Com_ewpl\u001b[0m\u001b[0;34m,\u001b[0m\u001b[0;36m10\u001b[0m\u001b[0;34m)\u001b[0m\u001b[0;34m\u001b[0m\u001b[0m\n\u001b[0m",
      "\u001b[0;31mNameError\u001b[0m: name 'Don2Com_ewpl' is not defined"
     ]
    }
   ],
   "source": [
    "plot_log_log_median(Don2Com_ewpl,10)"
   ]
  },
  {
   "cell_type": "markdown",
   "metadata": {},
   "source": [
    "## Edge weight vs Mutual neighbors"
   ]
  },
  {
   "cell_type": "code",
   "execution_count": 14,
   "metadata": {
    "collapsed": false
   },
   "outputs": [],
   "source": [
    "def get_neighborhood(records):\n",
    "    # each key is a node in column 1 and each value is a set nodes from column 0\n",
    "    nbrs = {}\n",
    "    for i in tqdm(range(records.shape[0])):\n",
    "        nbrs[records[i,1]]=nbrs.get(records[i,1],set()).union(set([records[i,0]]))\n",
    "    return nbrs\n",
    "\n",
    "def get_mutual(nbr_1, nbr_2, i, j):\n",
    "    # Find nbr2 of nbr 1 of j and nbr2 of j\n",
    "    result = set()\n",
    "    for j_prime in nbr_1.get(i,set()):\n",
    "        result = result.union(nbr_2.get(j_prime, set()))\n",
    "    return len(result.intersection(nbr_2.get(j,set())))\n",
    "    \n",
    "def ew_mutual(records, edge_weights, maxIndex):\n",
    "    # each key is a node/comm and each value is a set of comm/nodes\n",
    "    node_neighbors = get_neighborhood(records)\n",
    "    comm_neighbors = get_neighborhood(records[:,np.array([1,0])])\n",
    "    #edge_weights =  get_edge_weights(records)\n",
    "    x = []\n",
    "    y = []\n",
    "    random_idx = np.random.randint(len(edge_weights.keys()),size=100)\n",
    "    edges = edge_weights.keys()\n",
    "    for i in random_idx:\n",
    "        # Add edge weight as x value\n",
    "        #edge = edge_weights.keys()[i]\n",
    "        edge = edges[i]\n",
    "        val = edge_weights[edge]\n",
    "        x += [edge_weights[edge]]\n",
    "        # Add product of incident weights\n",
    "        y += [get_mutual(node_neighbors, comm_neighbors, edge[1], edge[0])*get_mutual(comm_neighbors, node_neighbors, edge[0], edge[1])]\n",
    "\n",
    "\n",
    "    return np.asarray(zip(x,y))"
   ]
  },
  {
   "cell_type": "markdown",
   "metadata": {},
   "source": [
    "## Self-similarity"
   ]
  },
  {
   "cell_type": "code",
   "execution_count": 15,
   "metadata": {
    "collapsed": false
   },
   "outputs": [
    {
     "ename": "NameError",
     "evalue": "name 'Don2ComFinal' is not defined",
     "output_type": "error",
     "traceback": [
      "\u001b[0;31m---------------------------------------------------------------------------\u001b[0m",
      "\u001b[0;31mNameError\u001b[0m                                 Traceback (most recent call last)",
      "\u001b[0;32m<ipython-input-15-11f1fdff1355>\u001b[0m in \u001b[0;36m<module>\u001b[0;34m()\u001b[0m\n\u001b[1;32m      1\u001b[0m \u001b[0;31m#def self_similarity(records):\u001b[0m\u001b[0;34m\u001b[0m\u001b[0;34m\u001b[0m\u001b[0m\n\u001b[0;32m----> 2\u001b[0;31m \u001b[0mrecords\u001b[0m \u001b[0;34m=\u001b[0m \u001b[0mDon2ComFinal\u001b[0m\u001b[0;34m\u001b[0m\u001b[0m\n\u001b[0m\u001b[1;32m      3\u001b[0m \u001b[0;31m# First create scipy adjacency matrix\u001b[0m\u001b[0;34m\u001b[0m\u001b[0;34m\u001b[0m\u001b[0m\n\u001b[1;32m      4\u001b[0m \u001b[0mmaxNodeIndex\u001b[0m \u001b[0;34m=\u001b[0m \u001b[0mNumDonors\u001b[0m\u001b[0;34m\u001b[0m\u001b[0m\n\u001b[1;32m      5\u001b[0m \u001b[0mmaxCommIndex\u001b[0m \u001b[0;34m=\u001b[0m \u001b[0mNumCommittees\u001b[0m\u001b[0;34m\u001b[0m\u001b[0m\n",
      "\u001b[0;31mNameError\u001b[0m: name 'Don2ComFinal' is not defined"
     ]
    }
   ],
   "source": [
    "#def self_similarity(records):\n",
    "records = Don2ComFinal\n",
    "# First create scipy adjacency matrix\n",
    "maxNodeIndex = NumDonors\n",
    "maxCommIndex = NumCommittees\n",
    "adjacency = sparse.bsr_matrix(np.zeros((maxCommIndex, maxNodeIndex)))\n",
    "edge_weights =  Don2ComFinal_ew\n",
    "for edge in edge_weights.keys():\n",
    "    adjacency[edge[0], edge[1]] += edge_weights[edge]\n",
    "    "
   ]
  },
  {
   "cell_type": "code",
   "execution_count": null,
   "metadata": {
    "collapsed": true
   },
   "outputs": [],
   "source": []
  },
  {
   "cell_type": "code",
   "execution_count": null,
   "metadata": {
    "collapsed": true
   },
   "outputs": [],
   "source": []
  },
  {
   "cell_type": "code",
   "execution_count": null,
   "metadata": {
    "collapsed": true
   },
   "outputs": [],
   "source": []
  },
  {
   "cell_type": "code",
   "execution_count": null,
   "metadata": {
    "collapsed": true
   },
   "outputs": [],
   "source": []
  }
 ],
 "metadata": {
  "kernelspec": {
   "display_name": "Python 3",
   "language": "python",
   "name": "python3"
  },
  "language_info": {
   "codemirror_mode": {
    "name": "ipython",
    "version": 3
   },
   "file_extension": ".py",
   "mimetype": "text/x-python",
   "name": "python",
   "nbconvert_exporter": "python",
   "pygments_lexer": "ipython3",
   "version": "3.5.2"
  }
 },
 "nbformat": 4,
 "nbformat_minor": 2
}
